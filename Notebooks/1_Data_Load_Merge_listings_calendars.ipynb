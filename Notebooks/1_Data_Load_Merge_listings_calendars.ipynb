{
 "cells": [
  {
   "cell_type": "code",
   "execution_count": 1,
   "metadata": {},
   "outputs": [],
   "source": [
    "#----------------------------------------------------------------------\n",
    "####### import all the relevant libraries here\n",
    "#----------------------------------------------------------------------\n",
    "import numpy as np\n",
    "import pandas as pd\n",
    "import os\n",
    "from datetime import datetime\n",
    "from ipykernel import kernelapp as app\n",
    "import matplotlib.pyplot as plt\n",
    "%matplotlib inline"
   ]
  },
  {
   "cell_type": "code",
   "execution_count": 17,
   "metadata": {},
   "outputs": [
    {
     "name": "stderr",
     "output_type": "stream",
     "text": [
      "/Users/mmoussavi/Anaconda-3/anaconda3/lib/python3.7/site-packages/IPython/core/interactiveshell.py:3051: DtypeWarning: Columns (44,62,63) have mixed types. Specify dtype option on import or set low_memory=False.\n",
      "  interactivity=interactivity, compiler=compiler, result=result)\n",
      "/Users/mmoussavi/Anaconda-3/anaconda3/lib/python3.7/site-packages/IPython/core/interactiveshell.py:3051: DtypeWarning: Columns (62,63) have mixed types. Specify dtype option on import or set low_memory=False.\n",
      "  interactivity=interactivity, compiler=compiler, result=result)\n"
     ]
    }
   ],
   "source": [
    "#----------------------------------------------------------------------\n",
    "# Read and merge all the listings and put them into one dataframe\n",
    "#----------------------------------------------------------------------\n",
    "path_to_files='/Users/mmoussavi/Documents/Insight_Fellowship_2020/Data/united-states/chicago/'\n",
    "\n",
    "df=pd.DataFrame()\n",
    "for root, dirs, files in os.walk('/Users/mmoussavi/Documents/Insight_Fellowship_2020/Data/united-states/chicago/', topdown=False):\n",
    "    for name in files:\n",
    "        if 'listings' in name:\n",
    "            file_scrape_date=(name.split('_'))[1]\n",
    "            dt = datetime.strptime(file_scrape_date, '%Y-%m-%d')\n",
    "            df_listings=pd.read_csv(os.path.join(root, name),encoding = \"ISO-8859-1\") \n",
    "            df_listings['scrape_month']=dt.month\n",
    "            df_listings['scrape_year']=dt.year\n",
    "            df=pd.concat([df,df_listings], sort=False)\n",
    "# save final dataframe to a csv file\n",
    "directory='/Users/mmoussavi/Documents/Insight_Fellowship_2020/Data/united-states/merged_data/all_chicago_listings/'\n",
    "df.to_csv(directory + 'all_chicago_listings' + \"_full.csv\")"
   ]
  },
  {
   "cell_type": "code",
   "execution_count": 33,
   "metadata": {},
   "outputs": [],
   "source": [
    "#----------------------------------------------------------------------\n",
    "# Read and merge all the calendars and put them into one dataframe\n",
    "#----------------------------------------------------------------------\n",
    "path_to_files='/Users/mmoussavi/Documents/Insight_Fellowship_2020/Data/united-states/chicago'\n",
    "\n",
    "df_cal=pd.DataFrame()\n",
    "for root, dirs, files in os.walk('/Users/mmoussavi/Documents/Insight_Fellowship_2020/Data/united-states/chicago', topdown=False):\n",
    "    for name in files:\n",
    "        if 'calendar' in name:\n",
    "            file_scrape_date=(name.split('_'))[1]\n",
    "            dt = datetime.strptime(file_scrape_date, '%Y-%m-%d')\n",
    "            df_calendar=pd.read_csv(os.path.join(root, name),encoding = \"ISO-8859-1\") \n",
    "            df_calendar['scrape_month']=dt.month\n",
    "            df_calendar['scrape_year']=dt.year\n",
    "            # Get names of indexes for which there is no availabity and thus no price\n",
    "            indexNames_no_availability = df_calendar[ df_calendar['available'] == 'f' ].index\n",
    "            df_calendar.drop(indexNames_no_availability , inplace=True)\n",
    "            df_cal=pd.concat([df_cal,df_calendar], sort=False)\n",
    "# save final dataframe to a csv file\n",
    "directory='/Users/mmoussavi/Documents/Insight_Fellowship_2020/Data/united-states/merged_data/all_chicago_calendars'\n",
    "df_cal.to_csv(directory + 'all_chicago_calendars' + \"_full.csv\")"
   ]
  },
  {
   "cell_type": "code",
   "execution_count": 39,
   "metadata": {},
   "outputs": [
    {
     "data": {
      "text/plain": [
       "Unnamed: 0               0\n",
       "listing_id               0\n",
       "date                     0\n",
       "available                0\n",
       "price                  175\n",
       "scrape_month             0\n",
       "scrape_year              0\n",
       "adjusted_price    10465056\n",
       "minimum_nights    10465598\n",
       "maximum_nights    10465598\n",
       "dtype: int64"
      ]
     },
     "execution_count": 39,
     "metadata": {},
     "output_type": "execute_result"
    }
   ],
   "source": [
    "df_cal.isnull().sum()"
   ]
  },
  {
   "cell_type": "code",
   "execution_count": 41,
   "metadata": {},
   "outputs": [
    {
     "data": {
      "text/plain": [
       "available\n",
       "t    25769677\n",
       "Name: price, dtype: int64"
      ]
     },
     "execution_count": 41,
     "metadata": {},
     "output_type": "execute_result"
    }
   ],
   "source": [
    "df_cal.groupby('available').price.count()"
   ]
  },
  {
   "cell_type": "code",
   "execution_count": 42,
   "metadata": {},
   "outputs": [],
   "source": [
    "df_cal.date = pd.to_datetime(df_cal.date)"
   ]
  },
  {
   "cell_type": "code",
   "execution_count": 47,
   "metadata": {},
   "outputs": [
    {
     "data": {
      "text/plain": [
       "4          $121.00\n",
       "10         $108.00\n",
       "11         $129.00\n",
       "12         $138.00\n",
       "25         $105.00\n",
       "            ...   \n",
       "3114355     $50.00\n",
       "3114356     $50.00\n",
       "3114357     $50.00\n",
       "3114358     $50.00\n",
       "3114359     $50.00\n",
       "Name: price, Length: 25769852, dtype: object"
      ]
     },
     "execution_count": 47,
     "metadata": {},
     "output_type": "execute_result"
    }
   ],
   "source": [
    "(df_cal['price'])"
   ]
  }
 ],
 "metadata": {
  "kernelspec": {
   "display_name": "Python 3",
   "language": "python",
   "name": "python3"
  },
  "language_info": {
   "codemirror_mode": {
    "name": "ipython",
    "version": 3
   },
   "file_extension": ".py",
   "mimetype": "text/x-python",
   "name": "python",
   "nbconvert_exporter": "python",
   "pygments_lexer": "ipython3",
   "version": "3.7.3"
  }
 },
 "nbformat": 4,
 "nbformat_minor": 4
}
